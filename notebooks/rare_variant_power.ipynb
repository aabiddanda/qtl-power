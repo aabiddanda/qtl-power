{
 "cells": [
  {
   "cell_type": "code",
   "execution_count": 1,
   "id": "c57bdbc4-6801-4be1-839c-aa1ba4884086",
   "metadata": {},
   "outputs": [],
   "source": [
    "import numpy as np \n",
    "import matplotlib.pyplot as plt\n",
    "from tqdm import tqdm \n",
    "import sys\n",
    "sys.path.append('../qtl_power/')\n",
    "from rare_variants import RareVariantBurdenPower, RareVariantVCPower\n",
    "\n",
    "%matplotlib inline"
   ]
  },
  {
   "cell_type": "code",
   "execution_count": 4,
   "id": "ed78db92-73b9-4ecf-b8cb-c456c12485cd",
   "metadata": {},
   "outputs": [
    {
     "data": {
      "text/plain": [
       "1.0000000000287557e-06"
      ]
     },
     "execution_count": 4,
     "metadata": {},
     "output_type": "execute_result"
    }
   ],
   "source": [
    "RareVariantBurdenPower().power_burden_model1(jd)"
   ]
  },
  {
   "cell_type": "code",
   "execution_count": null,
   "id": "c434893e-f735-47cd-9821-90bffe8392b6",
   "metadata": {},
   "outputs": [],
   "source": []
  }
 ],
 "metadata": {
  "kernelspec": {
   "display_name": "Python 3 (ipykernel)",
   "language": "python",
   "name": "python3"
  },
  "language_info": {
   "codemirror_mode": {
    "name": "ipython",
    "version": 3
   },
   "file_extension": ".py",
   "mimetype": "text/x-python",
   "name": "python",
   "nbconvert_exporter": "python",
   "pygments_lexer": "ipython3",
   "version": "3.9.5"
  }
 },
 "nbformat": 4,
 "nbformat_minor": 5
}
